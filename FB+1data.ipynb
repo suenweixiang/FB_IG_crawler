{
 "cells": [
  {
   "cell_type": "code",
   "execution_count": 1,
   "metadata": {},
   "outputs": [],
   "source": [
    "import requests,json\n",
    "import pandas as pd\n",
    "st = '2022-06-18'\n",
    "et = '2022-06-19'\n",
    "q = json.dumps([\"範例 \\\"+1\\\" 數量 -(\\\"is live\\\" OR \\\"was live\\\") -抽獎 -tag -好禮 -直播\"])\n",
    "# q = json.dumps([\"seg:KOL AND -seg:tw_politician AND -seg:1ecc00 AND 製冰機 AND (開團 OR 團購)\"])\n",
    "form = {\n",
    "'st':st,\n",
    "'et':et,\n",
    "'q':q,\n",
    "\"nation\":'TW',\n",
    "'chaneels':'[\"FB\"]',\n",
    "'key':\"1d7016605dcbd5fe717b61cd39c737bba4cc3095345557313eff8c92de45bd53\"\n",
    "}      \n",
    "r = requests.post('https://api.qsearch.cc/api/trend/v1/posts',data=form)\n",
    "# r.json()\n",
    "data = []\n",
    "for i in r.json()['data'][0]['fb_raw']:\n",
    "    data.append(\n",
    "        {\n",
    "            'page_name': i['from_name'],\t'like': i['reaction_like'], 'comments': i['comment_count'],\t'share': i['share_count'], 'text': i['text']\n",
    "        }\n",
    "    )\n",
    "pd.DataFrame(data).to_clipboard(index=False)"
   ]
  },
  {
   "cell_type": "code",
   "execution_count": null,
   "metadata": {},
   "outputs": [],
   "source": []
  }
 ],
 "metadata": {
  "kernelspec": {
   "display_name": "Python 3.9.12 64-bit",
   "language": "python",
   "name": "python3"
  },
  "language_info": {
   "codemirror_mode": {
    "name": "ipython",
    "version": 3
   },
   "file_extension": ".py",
   "mimetype": "text/x-python",
   "name": "python",
   "nbconvert_exporter": "python",
   "pygments_lexer": "ipython3",
   "version": "3.9.12"
  },
  "orig_nbformat": 4,
  "vscode": {
   "interpreter": {
    "hash": "aee8b7b246df8f9039afb4144a1f6fd8d2ca17a180786b69acc140d282b71a49"
   }
  }
 },
 "nbformat": 4,
 "nbformat_minor": 2
}
