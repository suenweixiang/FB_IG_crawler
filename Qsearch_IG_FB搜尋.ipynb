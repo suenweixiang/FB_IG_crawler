{
 "cells": [
  {
   "cell_type": "code",
   "execution_count": null,
   "metadata": {},
   "outputs": [],
   "source": [
    "import requests, json\n",
    "import pandas as pd"
   ]
  },
  {
   "cell_type": "code",
   "execution_count": null,
   "metadata": {},
   "outputs": [],
   "source": [
    "keyword = '方糖洗碗機'\n",
    "form = {\n",
    "'st': '2021-01-01',\n",
    "'et': '2022-05-09',\n",
    "'q': json.dumps([f'{keyword} AND (開團 OR 團購)']),\n",
    "'vw':'multiplechannel',\n",
    "\"nation\": 'TW',\n",
    "'channels': '[\"IG\"]',\n",
    "'panels':'[\"LC\",\"TC\",\"HP\",\"WC\",\"HC\",\"TL\"]',\n",
    "'key': \"1d7016605dcbd5fe717b61cd39c737bba4cc3095345557313eff8c92de45bd53\"\n",
    "}\n",
    "r = requests.get('https://api.qsearch.cc/api/trend/v1/posts', params=form)\n",
    "r.json()"
   ]
  },
  {
   "cell_type": "code",
   "execution_count": null,
   "metadata": {},
   "outputs": [],
   "source": [
    "st = '2021-01-01'\n",
    "et = '2022-05-09'\n",
    "q = json.dumps([\"seg:KOL 方糖洗碗機\"])\n",
    "# q = json.dumps([\"seg:KOL AND -seg:tw_politician AND -seg:1ecc00 AND 製冰機 AND (開團 OR 團購)\"])\n",
    "form = {\n",
    "'st':st,\n",
    "'et':et,\n",
    "'q':q,\n",
    "\"nation\":'TW',\n",
    "'chaneels':'[\"FB\"]',\n",
    "'key':\"1d7016605dcbd5fe717b61cd39c737bba4cc3095345557313eff8c92de45bd53\"\n",
    "}      \n",
    "r = requests.post('https://api.qsearch.cc/api/trend/v1/posts',data=form)\n",
    "r.json()"
   ]
  }
 ],
 "metadata": {
  "interpreter": {
   "hash": "aee8b7b246df8f9039afb4144a1f6fd8d2ca17a180786b69acc140d282b71a49"
  },
  "kernelspec": {
   "display_name": "Python 3.9.12 64-bit",
   "language": "python",
   "name": "python3"
  },
  "language_info": {
   "codemirror_mode": {
    "name": "ipython",
    "version": 3
   },
   "file_extension": ".py",
   "mimetype": "text/x-python",
   "name": "python",
   "nbconvert_exporter": "python",
   "pygments_lexer": "ipython3",
   "version": "3.9.12"
  },
  "orig_nbformat": 4
 },
 "nbformat": 4,
 "nbformat_minor": 2
}
